{
 "cells": [
  {
   "cell_type": "markdown",
   "metadata": {},
   "source": [
    "# Рекомендация тарифов"
   ]
  },
  {
   "cell_type": "markdown",
   "metadata": {},
   "source": [
    "В yашем распоряжении данные о поведении клиентов, которые уже перешли на эти тарифы (из проекта курса «Статистический анализ данных»). Нужно построить модель для задачи классификации, которая выберет подходящий тариф. Предобработка данных не понадобится — вы её уже сделали.\n",
    "\n",
    "Построим модель с максимально большим значением *accuracy*. Чтобы сдать проект успешно, нужно довести долю правильных ответов по крайней мере до 0.75. Проверить *accuracy* на тестовой выборке самостоятельно."
   ]
  },
  {
   "cell_type": "markdown",
   "metadata": {},
   "source": [
    "## 1. Откроем и изучим файл"
   ]
  },
  {
   "cell_type": "code",
   "execution_count": 1,
   "metadata": {},
   "outputs": [
    {
     "name": "stdout",
     "output_type": "stream",
     "text": [
      "<class 'pandas.core.frame.DataFrame'>\n",
      "RangeIndex: 3214 entries, 0 to 3213\n",
      "Data columns (total 5 columns):\n",
      "calls       3214 non-null float64\n",
      "minutes     3214 non-null float64\n",
      "messages    3214 non-null float64\n",
      "mb_used     3214 non-null float64\n",
      "is_ultra    3214 non-null int64\n",
      "dtypes: float64(4), int64(1)\n",
      "memory usage: 125.7 KB\n"
     ]
    },
    {
     "data": {
      "text/plain": [
       "0.30647168637212197"
      ]
     },
     "execution_count": 1,
     "metadata": {},
     "output_type": "execute_result"
    }
   ],
   "source": [
    "import pandas as pd\n",
    "from sklearn.metrics import accuracy_score\n",
    "from sklearn.tree import DecisionTreeClassifier\n",
    "from sklearn.ensemble import RandomForestClassifier\n",
    "from sklearn.linear_model import LogisticRegression\n",
    "from sklearn.model_selection import train_test_split\n",
    "from sklearn.model_selection import cross_val_score\n",
    "from sklearn.model_selection import GridSearchCV\n",
    "import random\n",
    "import joblib\n",
    "data = pd.read_csv('/datasets/users_behavior.csv')\n",
    "data.info()\n",
    "data['is_ultra'].mean()"
   ]
  },
  {
   "cell_type": "markdown",
   "metadata": {},
   "source": [
    "### Изучив общую информацию по датасету, мы имеем:\n",
    "1. Датасет состоит из 3214 пользователей;\n",
    "2. Всего параметров в датасете 5 - количество звонков, продолжительность звонков, количество смс, израсходованный интернет-трафик, используемый тариф;\n",
    "3. 70% абонентов используют тариф \"смарт\", 30% - тариф \"ультра\""
   ]
  },
  {
   "cell_type": "markdown",
   "metadata": {},
   "source": [
    "## 2. Разобьем данные на выборки"
   ]
  },
  {
   "cell_type": "markdown",
   "metadata": {},
   "source": [
    "Разобъем данные на обучающую(data-train), валидационную(data_valid), тестовую(data_test) в соотношении 60/20/20. Для этого используем train_test_split. В каждой группе выделим набор признаков и целевой признак. Проверим в разбитых группах соотношение тарифов \"смарт\" и \"ультра\"."
   ]
  },
  {
   "cell_type": "code",
   "execution_count": 2,
   "metadata": {},
   "outputs": [
    {
     "name": "stdout",
     "output_type": "stream",
     "text": [
      "(1928, 5)\n",
      "(643, 5)\n",
      "(643, 5)\n",
      "0.30757261410788383\n",
      "0.2939346811819596\n",
      "0.3157076205287714\n"
     ]
    }
   ],
   "source": [
    "data_train, data_testing = train_test_split(data, test_size=0.4, random_state=12345)\n",
    "data_valid, data_test = train_test_split(data_testing, test_size=0.5, random_state=12345)\n",
    "print(data_train.shape)\n",
    "print(data_valid.shape)\n",
    "print(data_test.shape)\n",
    "features_train = data_train.drop(['is_ultra'], axis=1)\n",
    "target_train = data_train['is_ultra']\n",
    "features_valid = data_valid.drop(['is_ultra'], axis=1)\n",
    "target_valid = data_valid['is_ultra']\n",
    "features_test = data_test.drop(['is_ultra'], axis=1)\n",
    "target_test = data_test['is_ultra']\n",
    "print(data_train['is_ultra'].mean())\n",
    "print(data_valid['is_ultra'].mean())\n",
    "print(data_test['is_ultra'].mean())\n",
    "    "
   ]
  },
  {
   "cell_type": "markdown",
   "metadata": {},
   "source": [
    "### Вывод\n",
    "1. В обучающую, валидационную и тестовую группы попали 1928, 643, 643 абонента соответственно.\n",
    "2. Соотношение тарифов в каждой группе осталось неизменным - примерно 70/30.\n"
   ]
  },
  {
   "cell_type": "markdown",
   "metadata": {},
   "source": [
    "## 3. Исследуем модели"
   ]
  },
  {
   "cell_type": "markdown",
   "metadata": {},
   "source": [
    "3.1 Модель логической регрессии"
   ]
  },
  {
   "cell_type": "code",
   "execution_count": 3,
   "metadata": {},
   "outputs": [
    {
     "name": "stdout",
     "output_type": "stream",
     "text": [
      "Accuracy\n",
      "Обучающая выборка: 0.7505186721991701\n",
      "Валидационная выборка: 0.7589424572317263\n"
     ]
    }
   ],
   "source": [
    "model_1 = LogisticRegression(random_state=12345, solver='liblinear')\n",
    "model_1.fit(features_train, target_train)\n",
    "predictions_1_train = model_1.predict(features_train)\n",
    "predictions_1_valid = model_1.predict(features_valid)\n",
    "print(\"Accuracy\")\n",
    "print(\"Обучающая выборка:\", accuracy_score(target_train, predictions_1_train))\n",
    "print(\"Валидационная выборка:\", accuracy_score(target_valid, predictions_1_valid))"
   ]
  },
  {
   "cell_type": "code",
   "execution_count": null,
   "metadata": {},
   "outputs": [],
   "source": [
    "get_dummies()"
   ]
  },
  {
   "cell_type": "markdown",
   "metadata": {},
   "source": [
    "3.2 Модель решающего дерева"
   ]
  },
  {
   "cell_type": "code",
   "execution_count": 4,
   "metadata": {},
   "outputs": [
    {
     "data": {
      "text/html": [
       "<div>\n",
       "<style scoped>\n",
       "    .dataframe tbody tr th:only-of-type {\n",
       "        vertical-align: middle;\n",
       "    }\n",
       "\n",
       "    .dataframe tbody tr th {\n",
       "        vertical-align: top;\n",
       "    }\n",
       "\n",
       "    .dataframe thead th {\n",
       "        text-align: right;\n",
       "    }\n",
       "</style>\n",
       "<table border=\"1\" class=\"dataframe\">\n",
       "  <thead>\n",
       "    <tr style=\"text-align: right;\">\n",
       "      <th></th>\n",
       "      <th>max_depth</th>\n",
       "      <th>split</th>\n",
       "      <th>leaf</th>\n",
       "      <th>accuracy_train</th>\n",
       "      <th>accuracy_valid</th>\n",
       "    </tr>\n",
       "  </thead>\n",
       "  <tbody>\n",
       "    <tr>\n",
       "      <td>478</td>\n",
       "      <td>6</td>\n",
       "      <td>18</td>\n",
       "      <td>2</td>\n",
       "      <td>0.832469</td>\n",
       "      <td>0.790047</td>\n",
       "    </tr>\n",
       "    <tr>\n",
       "      <td>480</td>\n",
       "      <td>6</td>\n",
       "      <td>18</td>\n",
       "      <td>4</td>\n",
       "      <td>0.831432</td>\n",
       "      <td>0.788491</td>\n",
       "    </tr>\n",
       "    <tr>\n",
       "      <td>479</td>\n",
       "      <td>6</td>\n",
       "      <td>18</td>\n",
       "      <td>3</td>\n",
       "      <td>0.832469</td>\n",
       "      <td>0.788491</td>\n",
       "    </tr>\n",
       "    <tr>\n",
       "      <td>461</td>\n",
       "      <td>6</td>\n",
       "      <td>14</td>\n",
       "      <td>3</td>\n",
       "      <td>0.832469</td>\n",
       "      <td>0.786936</td>\n",
       "    </tr>\n",
       "    <tr>\n",
       "      <td>408</td>\n",
       "      <td>6</td>\n",
       "      <td>2</td>\n",
       "      <td>4</td>\n",
       "      <td>0.834025</td>\n",
       "      <td>0.786936</td>\n",
       "    </tr>\n",
       "    <tr>\n",
       "      <td>...</td>\n",
       "      <td>...</td>\n",
       "      <td>...</td>\n",
       "      <td>...</td>\n",
       "      <td>...</td>\n",
       "      <td>...</td>\n",
       "    </tr>\n",
       "    <tr>\n",
       "      <td>1309</td>\n",
       "      <td>17</td>\n",
       "      <td>4</td>\n",
       "      <td>5</td>\n",
       "      <td>0.892635</td>\n",
       "      <td>0.723173</td>\n",
       "    </tr>\n",
       "    <tr>\n",
       "      <td>1462</td>\n",
       "      <td>19</td>\n",
       "      <td>2</td>\n",
       "      <td>5</td>\n",
       "      <td>0.893672</td>\n",
       "      <td>0.723173</td>\n",
       "    </tr>\n",
       "    <tr>\n",
       "      <td>1480</td>\n",
       "      <td>19</td>\n",
       "      <td>6</td>\n",
       "      <td>5</td>\n",
       "      <td>0.893672</td>\n",
       "      <td>0.723173</td>\n",
       "    </tr>\n",
       "    <tr>\n",
       "      <td>1471</td>\n",
       "      <td>19</td>\n",
       "      <td>4</td>\n",
       "      <td>5</td>\n",
       "      <td>0.893672</td>\n",
       "      <td>0.723173</td>\n",
       "    </tr>\n",
       "    <tr>\n",
       "      <td>1498</td>\n",
       "      <td>19</td>\n",
       "      <td>10</td>\n",
       "      <td>5</td>\n",
       "      <td>0.893672</td>\n",
       "      <td>0.723173</td>\n",
       "    </tr>\n",
       "  </tbody>\n",
       "</table>\n",
       "<p>1539 rows × 5 columns</p>\n",
       "</div>"
      ],
      "text/plain": [
       "      max_depth  split  leaf  accuracy_train  accuracy_valid\n",
       "478           6     18     2        0.832469        0.790047\n",
       "480           6     18     4        0.831432        0.788491\n",
       "479           6     18     3        0.832469        0.788491\n",
       "461           6     14     3        0.832469        0.786936\n",
       "408           6      2     4        0.834025        0.786936\n",
       "...         ...    ...   ...             ...             ...\n",
       "1309         17      4     5        0.892635        0.723173\n",
       "1462         19      2     5        0.893672        0.723173\n",
       "1480         19      6     5        0.893672        0.723173\n",
       "1471         19      4     5        0.893672        0.723173\n",
       "1498         19     10     5        0.893672        0.723173\n",
       "\n",
       "[1539 rows x 5 columns]"
      ]
     },
     "execution_count": 4,
     "metadata": {},
     "output_type": "execute_result"
    }
   ],
   "source": [
    "best_tree = []\n",
    "for i in range(1, 20):\n",
    "    for j in range(2, 20, 2):\n",
    "        for k in range(1, 10):\n",
    "            model_2 = DecisionTreeClassifier(random_state=12345, max_depth=i, min_samples_split=j, min_samples_leaf=k)\n",
    "            model_2.fit(features_train, target_train)\n",
    "            predictions_2_train = model_2.predict(features_train)\n",
    "            predictions_2_valid = model_2.predict(features_valid)\n",
    "            accuracy_train = accuracy_score(target_train, predictions_2_train)\n",
    "            accuracy_valid = accuracy_score(target_valid, predictions_2_valid)\n",
    "            best_tree.append([i, j, k, accuracy_train, accuracy_valid])                               \n",
    "best_tree = pd.DataFrame(data = best_tree,\\\n",
    "                         columns = ['max_depth', 'split', 'leaf', 'accuracy_train', 'accuracy_valid'])\\\n",
    "                         .sort_values(by = 'accuracy_valid', ascending=False)\n",
    "best_tree"
   ]
  },
  {
   "cell_type": "markdown",
   "metadata": {},
   "source": [
    "3.3 Модель случайного леса"
   ]
  },
  {
   "cell_type": "code",
   "execution_count": 5,
   "metadata": {
    "scrolled": false
   },
   "outputs": [
    {
     "data": {
      "text/html": [
       "<div>\n",
       "<style scoped>\n",
       "    .dataframe tbody tr th:only-of-type {\n",
       "        vertical-align: middle;\n",
       "    }\n",
       "\n",
       "    .dataframe tbody tr th {\n",
       "        vertical-align: top;\n",
       "    }\n",
       "\n",
       "    .dataframe thead th {\n",
       "        text-align: right;\n",
       "    }\n",
       "</style>\n",
       "<table border=\"1\" class=\"dataframe\">\n",
       "  <thead>\n",
       "    <tr style=\"text-align: right;\">\n",
       "      <th></th>\n",
       "      <th>n_estimators</th>\n",
       "      <th>max_depth</th>\n",
       "      <th>split</th>\n",
       "      <th>leaf</th>\n",
       "      <th>accuracy_train</th>\n",
       "      <th>accuracy_valid</th>\n",
       "    </tr>\n",
       "  </thead>\n",
       "  <tbody>\n",
       "    <tr>\n",
       "      <td>2377</td>\n",
       "      <td>30</td>\n",
       "      <td>8</td>\n",
       "      <td>16</td>\n",
       "      <td>3</td>\n",
       "      <td>0.849585</td>\n",
       "      <td>0.811820</td>\n",
       "    </tr>\n",
       "    <tr>\n",
       "      <td>2782</td>\n",
       "      <td>35</td>\n",
       "      <td>8</td>\n",
       "      <td>16</td>\n",
       "      <td>3</td>\n",
       "      <td>0.848548</td>\n",
       "      <td>0.811820</td>\n",
       "    </tr>\n",
       "    <tr>\n",
       "      <td>3110</td>\n",
       "      <td>40</td>\n",
       "      <td>7</td>\n",
       "      <td>4</td>\n",
       "      <td>1</td>\n",
       "      <td>0.857365</td>\n",
       "      <td>0.810264</td>\n",
       "    </tr>\n",
       "    <tr>\n",
       "      <td>3628</td>\n",
       "      <td>45</td>\n",
       "      <td>9</td>\n",
       "      <td>12</td>\n",
       "      <td>4</td>\n",
       "      <td>0.857365</td>\n",
       "      <td>0.808709</td>\n",
       "    </tr>\n",
       "    <tr>\n",
       "      <td>2661</td>\n",
       "      <td>35</td>\n",
       "      <td>6</td>\n",
       "      <td>4</td>\n",
       "      <td>2</td>\n",
       "      <td>0.835062</td>\n",
       "      <td>0.808709</td>\n",
       "    </tr>\n",
       "    <tr>\n",
       "      <td>...</td>\n",
       "      <td>...</td>\n",
       "      <td>...</td>\n",
       "      <td>...</td>\n",
       "      <td>...</td>\n",
       "      <td>...</td>\n",
       "      <td>...</td>\n",
       "    </tr>\n",
       "    <tr>\n",
       "      <td>839</td>\n",
       "      <td>15</td>\n",
       "      <td>1</td>\n",
       "      <td>12</td>\n",
       "      <td>5</td>\n",
       "      <td>0.744295</td>\n",
       "      <td>0.752722</td>\n",
       "    </tr>\n",
       "    <tr>\n",
       "      <td>838</td>\n",
       "      <td>15</td>\n",
       "      <td>1</td>\n",
       "      <td>12</td>\n",
       "      <td>4</td>\n",
       "      <td>0.744295</td>\n",
       "      <td>0.752722</td>\n",
       "    </tr>\n",
       "    <tr>\n",
       "      <td>837</td>\n",
       "      <td>15</td>\n",
       "      <td>1</td>\n",
       "      <td>12</td>\n",
       "      <td>3</td>\n",
       "      <td>0.744295</td>\n",
       "      <td>0.752722</td>\n",
       "    </tr>\n",
       "    <tr>\n",
       "      <td>836</td>\n",
       "      <td>15</td>\n",
       "      <td>1</td>\n",
       "      <td>12</td>\n",
       "      <td>2</td>\n",
       "      <td>0.744295</td>\n",
       "      <td>0.752722</td>\n",
       "    </tr>\n",
       "    <tr>\n",
       "      <td>811</td>\n",
       "      <td>15</td>\n",
       "      <td>1</td>\n",
       "      <td>2</td>\n",
       "      <td>2</td>\n",
       "      <td>0.744295</td>\n",
       "      <td>0.752722</td>\n",
       "    </tr>\n",
       "  </tbody>\n",
       "</table>\n",
       "<p>3645 rows × 6 columns</p>\n",
       "</div>"
      ],
      "text/plain": [
       "      n_estimators  max_depth  split  leaf  accuracy_train  accuracy_valid\n",
       "2377            30          8     16     3        0.849585        0.811820\n",
       "2782            35          8     16     3        0.848548        0.811820\n",
       "3110            40          7      4     1        0.857365        0.810264\n",
       "3628            45          9     12     4        0.857365        0.808709\n",
       "2661            35          6      4     2        0.835062        0.808709\n",
       "...            ...        ...    ...   ...             ...             ...\n",
       "839             15          1     12     5        0.744295        0.752722\n",
       "838             15          1     12     4        0.744295        0.752722\n",
       "837             15          1     12     3        0.744295        0.752722\n",
       "836             15          1     12     2        0.744295        0.752722\n",
       "811             15          1      2     2        0.744295        0.752722\n",
       "\n",
       "[3645 rows x 6 columns]"
      ]
     },
     "execution_count": 5,
     "metadata": {},
     "output_type": "execute_result"
    }
   ],
   "source": [
    "best_forest = []\n",
    "for estim in range(5, 50, 5):\n",
    "    for i in range(1, 10):\n",
    "        for j in range(2, 20, 2):\n",
    "            for k in range(1, 6):\n",
    "                model_3 = RandomForestClassifier(n_estimators=estim,\\\n",
    "                                                 max_depth=i,\\\n",
    "                                                 random_state=12345,\\\n",
    "                                                 min_samples_split=j, \n",
    "                                                 min_samples_leaf=k)\n",
    "                model_3.fit(features_train, target_train)\n",
    "                predictions_3_train = model_3.predict(features_train)\n",
    "                predictions_3_valid = model_3.predict(features_valid)\n",
    "                accuracy_train = accuracy_score(target_train, predictions_3_train)\n",
    "                accuracy_valid = accuracy_score(target_valid, predictions_3_valid)\n",
    "                best_forest.append([estim, i, j, k, accuracy_train, accuracy_valid])\n",
    "best_forest = pd.DataFrame(data = best_forest,\\\n",
    "                         columns = ['n_estimators', 'max_depth', 'split', 'leaf', 'accuracy_train', 'accuracy_valid'])\\\n",
    "                         .sort_values(by = 'accuracy_valid', ascending=False)\n",
    "best_forest\n"
   ]
  },
  {
   "cell_type": "markdown",
   "metadata": {},
   "source": [
    "### Вывод\n",
    "Результаты тестирования 3-х моделей показали:\n",
    "1. Точность логистической регрессии - 0.7589\n",
    "2. Лучшая точность решающего дерева - 0.79\n",
    "3. Лучшая точность случайного леса - 0.8118.\n",
    "### За лучшую модель примем случайный лес."
   ]
  },
  {
   "cell_type": "code",
   "execution_count": 6,
   "metadata": {},
   "outputs": [
    {
     "name": "stdout",
     "output_type": "stream",
     "text": [
      "Accuracy: 0.71 (+/- 0.03)\n"
     ]
    }
   ],
   "source": [
    "features = data.drop(['is_ultra'], axis=1)\n",
    "target = data['is_ultra']\n",
    "model_5 = LogisticRegression(random_state=12345, solver='liblinear')\n",
    "scores = cross_val_score(model_5, features, target, cv=5)\n",
    "scores\n",
    "print(\"Accuracy: %0.2f (+/- %0.2f)\" % (scores.mean(), scores.std() * 2))"
   ]
  },
  {
   "cell_type": "markdown",
   "metadata": {},
   "source": [
    "## 4. Проверьте модель на тестовой выборке"
   ]
  },
  {
   "cell_type": "code",
   "execution_count": 7,
   "metadata": {},
   "outputs": [
    {
     "name": "stdout",
     "output_type": "stream",
     "text": [
      "0.8040435458786936\n"
     ]
    },
    {
     "data": {
      "text/plain": [
       "array([0.19287866, 0.20800558, 0.22413893, 0.37497683])"
      ]
     },
     "execution_count": 7,
     "metadata": {},
     "output_type": "execute_result"
    }
   ],
   "source": [
    "model_4 = RandomForestClassifier(n_estimators=30,\\\n",
    "                                 max_depth=8,\\\n",
    "                                 random_state=12345,\\\n",
    "                                 min_samples_split = 16,\\\n",
    "                                 min_samples_leaf = 3)\n",
    "model_4.fit(features_train, target_train)\n",
    "predictions_4_test = model_4.predict(features_test)\n",
    "print (accuracy_score(target_test, predictions_4_test))\n",
    "model_4.feature_importances_"
   ]
  },
  {
   "cell_type": "code",
   "execution_count": 8,
   "metadata": {},
   "outputs": [
    {
     "name": "stdout",
     "output_type": "stream",
     "text": [
      "Accuracy: 0.71 (+/- 0.03)\n",
      "Accuracy: 0.77 (+/- 0.02)\n",
      "Accuracy: 0.81 (+/- 0.02)\n"
     ]
    }
   ],
   "source": [
    "scores_1 = cross_val_score(model_1, features, target, cv=5)\n",
    "print(\"Accuracy: %0.2f (+/- %0.2f)\" % (scores_1.mean(), scores_1.std() * 2))\n",
    "scores_2 = cross_val_score(model_2, features, target, cv=5)\n",
    "print(\"Accuracy: %0.2f (+/- %0.2f)\" % (scores_2.mean(), scores_2.std() * 2))\n",
    "scores_3 = cross_val_score(model_3, features, target, cv=5)\n",
    "print(\"Accuracy: %0.2f (+/- %0.2f)\" % (scores_3.mean(), scores_3.std() * 2))"
   ]
  },
  {
   "cell_type": "markdown",
   "metadata": {},
   "source": [
    "### Вывод\n",
    "Выбранная модель случайного леса на тестовой выборке показала точность - 0.804, что удовлетворяет условиям задачи - довести долю правильных ответов по крайней мере до 0.75. Исследуя значимость параметров для данной моделей, можно сделать вывод, что наибольшую значимость в выборе тарифа имеет израсходованный интернет-трафик."
   ]
  },
  {
   "cell_type": "markdown",
   "metadata": {},
   "source": [
    "## 5. (бонус) Проверим модели на адекватность"
   ]
  },
  {
   "cell_type": "markdown",
   "metadata": {},
   "source": [
    "Сравним выбранную модель со случайной. Для этого создадим рандомные результаты тестовой выборке в переменной random_predictions и сравним точность данных результатов с точностью расчетной модели."
   ]
  },
  {
   "cell_type": "code",
   "execution_count": 9,
   "metadata": {},
   "outputs": [
    {
     "name": "stdout",
     "output_type": "stream",
     "text": [
      "Показатель accuracy расчетной модели: 0.8040435458786936\n",
      "Показатель accuracy случайной модели: 0.5163297045101088\n",
      "Точность расчетной модели лучше случайной\n"
     ]
    }
   ],
   "source": [
    "random_predictions = [random.randint(0, 1) for _ in range(len(data_test.index))]\n",
    "if accuracy_score(target_test, random_predictions) < accuracy_score(target_test, predictions_4_test):\n",
    "    print('Показатель accuracy расчетной модели:', accuracy_score(target_test, predictions_4_test))\n",
    "    print('Показатель accuracy случайной модели:', accuracy_score(target_test, random_predictions))\n",
    "    print('Точность расчетной модели лучше случайной')"
   ]
  },
  {
   "cell_type": "markdown",
   "metadata": {},
   "source": [
    "## Вывод\n",
    "1. Рассмотрено 3 модели: логическая регрессия, решающий лес, случайный лес.\n",
    "2. Лучшие результаты показала модель сдучайного леса.\n",
    "3. С помощью выбранной модели достигнут accuracy не меньше 0.75 - 0.804.\n",
    "4. Выбранная модель проверена на адекватность, с помощью сравнения со случайной моделью."
   ]
  }
 ],
 "metadata": {
  "kernelspec": {
   "display_name": "Python 3",
   "language": "python",
   "name": "python3"
  },
  "language_info": {
   "codemirror_mode": {
    "name": "ipython",
    "version": 3
   },
   "file_extension": ".py",
   "mimetype": "text/x-python",
   "name": "python",
   "nbconvert_exporter": "python",
   "pygments_lexer": "ipython3",
   "version": "3.7.6"
  }
 },
 "nbformat": 4,
 "nbformat_minor": 2
}
